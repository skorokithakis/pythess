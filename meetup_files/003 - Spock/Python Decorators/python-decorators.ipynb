{
 "metadata": {
  "name": "",
  "signature": "sha256:b2e4f0d02e9301e0a739b48382b62339374cc0504f539aeec71b3a03baf58e23"
 },
 "nbformat": 3,
 "nbformat_minor": 0,
 "worksheets": [
  {
   "cells": [
    {
     "cell_type": "markdown",
     "metadata": {},
     "source": [
      "![](http://i.imgur.com/5y60Mm5.jpg?3)"
     ]
    },
    {
     "cell_type": "heading",
     "level": 2,
     "metadata": {},
     "source": [
      "Assign functions to variables"
     ]
    },
    {
     "cell_type": "code",
     "collapsed": false,
     "input": [
      "def greet(name):\n",
      "    return \"hello \" + name\n",
      "\n",
      "greet_someone = greet\n",
      "print(greet_someone(\"John\"))"
     ],
     "language": "python",
     "metadata": {},
     "outputs": [
      {
       "output_type": "stream",
       "stream": "stdout",
       "text": [
        "hello John\n"
       ]
      }
     ],
     "prompt_number": 2
    },
    {
     "cell_type": "heading",
     "level": 2,
     "metadata": {},
     "source": [
      "Define functions inside other functions"
     ]
    },
    {
     "cell_type": "code",
     "collapsed": false,
     "input": [
      "def greet(name):\n",
      "    def get_message():\n",
      "        return \"Hello \"\n",
      "\n",
      "    result = get_message() + name\n",
      "    return result\n",
      "\n",
      "print(greet(\"John\"))"
     ],
     "language": "python",
     "metadata": {},
     "outputs": [
      {
       "output_type": "stream",
       "stream": "stdout",
       "text": [
        "Hello John\n"
       ]
      }
     ],
     "prompt_number": 3
    },
    {
     "cell_type": "heading",
     "level": 2,
     "metadata": {},
     "source": [
      "Functions can be passed as parameters to other functions"
     ]
    },
    {
     "cell_type": "code",
     "collapsed": false,
     "input": [
      "def greet(name):\n",
      "   return \"Hello \" + name \n",
      "\n",
      "def call_func(func):\n",
      "    other_name = \"John\"\n",
      "    return func(other_name)  \n",
      "\n",
      "print(call_func(greet))"
     ],
     "language": "python",
     "metadata": {},
     "outputs": [
      {
       "output_type": "stream",
       "stream": "stdout",
       "text": [
        "Hello John\n"
       ]
      }
     ],
     "prompt_number": 4
    },
    {
     "cell_type": "heading",
     "level": 2,
     "metadata": {},
     "source": [
      "Functions can return other functions"
     ]
    },
    {
     "cell_type": "code",
     "collapsed": false,
     "input": [
      "def compose_greet_func():\n",
      "    def get_message():\n",
      "        return \"Hello there!\"\n",
      "\n",
      "    return get_message\n",
      "\n",
      "greet = compose_greet_func()\n",
      "print(greet())"
     ],
     "language": "python",
     "metadata": {},
     "outputs": [
      {
       "output_type": "stream",
       "stream": "stdout",
       "text": [
        "Hello there!\n"
       ]
      }
     ],
     "prompt_number": 5
    },
    {
     "cell_type": "heading",
     "level": 2,
     "metadata": {},
     "source": [
      "Inner functions have access to the enclosing scope"
     ]
    },
    {
     "cell_type": "code",
     "collapsed": false,
     "input": [
      "def compose_greet_func(name):\n",
      "    def get_message():\n",
      "        return \"Hello there \" + name + \"!\"\n",
      "\n",
      "    return get_message\n",
      "\n",
      "greet = compose_greet_func(\"John\")\n",
      "print(greet())"
     ],
     "language": "python",
     "metadata": {},
     "outputs": [
      {
       "output_type": "stream",
       "stream": "stdout",
       "text": [
        "Hello there John!\n"
       ]
      }
     ],
     "prompt_number": 6
    },
    {
     "cell_type": "heading",
     "level": 2,
     "metadata": {},
     "source": [
      "Decorators"
     ]
    },
    {
     "cell_type": "code",
     "collapsed": false,
     "input": [
      "def get_text(name):\n",
      "   return \"lorem ipsum, {0} dolor sit amet\".format(name)\n",
      "\n",
      "def p_decorate(func):\n",
      "   def func_wrapper(name):\n",
      "       return \"<p>{0}</p>\".format(func(name))\n",
      "   return func_wrapper\n",
      "\n",
      "my_get_text = p_decorate(get_text)\n",
      "\n",
      "print(my_get_text(\"John\"))"
     ],
     "language": "python",
     "metadata": {},
     "outputs": [
      {
       "output_type": "stream",
       "stream": "stdout",
       "text": [
        "<p>lorem ipsum, John dolor sit amet</p>\n"
       ]
      }
     ],
     "prompt_number": 7
    },
    {
     "cell_type": "heading",
     "level": 2,
     "metadata": {},
     "source": [
      "Python's Decorator Syntax"
     ]
    },
    {
     "cell_type": "code",
     "collapsed": false,
     "input": [
      "def p_decorate(func):\n",
      "   def func_wrapper(name):\n",
      "       return \"<p>{0}</p>\".format(func(name))\n",
      "   return func_wrapper\n",
      "\n",
      "@p_decorate\n",
      "def get_text(name):\n",
      "   return \"lorem ipsum, {0} dolor sit amet\".format(name)\n",
      "\n",
      "print(get_text(\"John\"))"
     ],
     "language": "python",
     "metadata": {},
     "outputs": [
      {
       "output_type": "stream",
       "stream": "stdout",
       "text": [
        "<p>lorem ipsum, John dolor sit amet</p>\n"
       ]
      }
     ],
     "prompt_number": 8
    },
    {
     "cell_type": "heading",
     "level": 2,
     "metadata": {},
     "source": [
      "What does this new syntax offer?"
     ]
    },
    {
     "cell_type": "code",
     "collapsed": false,
     "input": [
      "def get_text(name):\n",
      "   return \"lorem ipsum, {0} dolor sit amet\".format(name)\n",
      "\n",
      "def p_decorate(func):\n",
      "   def func_wrapper(name):\n",
      "       return \"<p>{0}</p>\".format(func(name))\n",
      "   return func_wrapper\n",
      "\n",
      "def strong_decorate(func):\n",
      "    def func_wrapper(name):\n",
      "        return \"<strong>{0}</strong>\".format(func(name))\n",
      "    return func_wrapper\n",
      "\n",
      "def div_decorate(func):\n",
      "    def func_wrapper(name):\n",
      "        return \"<div>{0}</div>\".format(func(name))\n",
      "    return func_wrapper"
     ],
     "language": "python",
     "metadata": {},
     "outputs": [],
     "prompt_number": 9
    },
    {
     "cell_type": "code",
     "collapsed": false,
     "input": [
      "my_get_text = div_decorate(p_decorate(strong_decorate(get_text)))\n",
      "\n",
      "print(my_get_text(\"John\"))"
     ],
     "language": "python",
     "metadata": {},
     "outputs": [
      {
       "output_type": "stream",
       "stream": "stdout",
       "text": [
        "<div><p><strong>lorem ipsum, John dolor sit amet</strong></p></div>\n"
       ]
      }
     ],
     "prompt_number": 10
    },
    {
     "cell_type": "code",
     "collapsed": false,
     "input": [
      "@div_decorate\n",
      "@p_decorate\n",
      "@strong_decorate\n",
      "def get_text(name):\n",
      "   return \"lorem ipsum, {0} dolor sit amet\".format(name)\n",
      "\n",
      "print(get_text(\"John\"))"
     ],
     "language": "python",
     "metadata": {},
     "outputs": [
      {
       "output_type": "stream",
       "stream": "stdout",
       "text": [
        "<div><p><strong>lorem ipsum, John dolor sit amet</strong></p></div>\n"
       ]
      }
     ],
     "prompt_number": 11
    },
    {
     "cell_type": "heading",
     "level": 2,
     "metadata": {},
     "source": [
      "Decorating Methods"
     ]
    },
    {
     "cell_type": "code",
     "collapsed": false,
     "input": [
      "def p_decorate(func):\n",
      "   def func_wrapper(self):\n",
      "       return \"<p>{0}</p>\".format(func(self))\n",
      "   return func_wrapper\n",
      "\n",
      "class Person(object):\n",
      "    def __init__(self):\n",
      "        self.name = \"John\"\n",
      "        self.family = \"Doe\"\n",
      "\n",
      "    @p_decorate\n",
      "    def get_fullname(self):\n",
      "        return self.name + \" \" + self.family\n",
      "\n",
      "my_person = Person()\n",
      "print(my_person.get_fullname())"
     ],
     "language": "python",
     "metadata": {},
     "outputs": [
      {
       "output_type": "stream",
       "stream": "stdout",
       "text": [
        "<p>John Doe</p>\n"
       ]
      }
     ],
     "prompt_number": 12
    },
    {
     "cell_type": "code",
     "collapsed": false,
     "input": [
      "def p_decorate(func):\n",
      "   def func_wrapper(*args, **kwargs):\n",
      "       return \"<p>{0}</p>\".format(func(*args, **kwargs))\n",
      "   return func_wrapper\n",
      "\n",
      "class Person(object):\n",
      "    def __init__(self):\n",
      "        self.name = \"John\"\n",
      "        self.family = \"Doe\"\n",
      "\n",
      "    @p_decorate\n",
      "    def get_fullname(self):\n",
      "        return self.name + \" \" + self.family\n",
      "\n",
      "my_person = Person()\n",
      "\n",
      "print(my_person.get_fullname())"
     ],
     "language": "python",
     "metadata": {},
     "outputs": [
      {
       "output_type": "stream",
       "stream": "stdout",
       "text": [
        "<p>John Doe</p>\n"
       ]
      }
     ],
     "prompt_number": 13
    },
    {
     "cell_type": "heading",
     "level": 2,
     "metadata": {},
     "source": [
      "Passing arguments to decorators aka decorator generators"
     ]
    },
    {
     "cell_type": "code",
     "collapsed": false,
     "input": [
      "def tags(tag_name):\n",
      "    def tags_decorator(func):\n",
      "        def func_wrapper(name):\n",
      "            return \"<{0}>{1}</{0}>\".format(tag_name, func(name))\n",
      "        return func_wrapper\n",
      "    return tags_decorator\n",
      "\n",
      "@tags(\"p\")\n",
      "def get_text(name):\n",
      "    return \"Hello \" + name\n",
      "\n",
      "print(get_text(\"John\"))"
     ],
     "language": "python",
     "metadata": {},
     "outputs": [
      {
       "output_type": "stream",
       "stream": "stdout",
       "text": [
        "<p>Hello John</p>\n"
       ]
      }
     ],
     "prompt_number": 14
    },
    {
     "cell_type": "heading",
     "level": 2,
     "metadata": {},
     "source": [
      "Source examples thanks to Ayman Farhat"
     ]
    },
    {
     "cell_type": "markdown",
     "metadata": {},
     "source": [
      "http://thecodeship.com/patterns/guide-to-python-function-decorators/"
     ]
    }
   ],
   "metadata": {}
  }
 ]
}