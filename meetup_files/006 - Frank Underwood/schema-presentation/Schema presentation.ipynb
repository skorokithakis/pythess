{
 "cells": [
  {
   "cell_type": "code",
   "execution_count": 1,
   "metadata": {
    "collapsed": false,
    "slideshow": {
     "slide_type": "skip"
    }
   },
   "outputs": [],
   "source": [
    "import ciso8601, datetime, json, os\n",
    "from notebook.services.config import ConfigManager\n",
    "cm = ConfigManager()\n",
    "_ = cm.update('livereveal', {\n",
    "    'theme': 'beige',\n",
    "    'transition': 'fade'\n",
    "})"
   ]
  },
  {
   "cell_type": "markdown",
   "metadata": {
    "slideshow": {
     "slide_type": "slide"
    }
   },
   "source": [
    "# The inimitable schema library\n",
    "\n",
    "### Part 2\n",
    "\n",
    "By [@stavros](https://twitter.com/stavros)"
   ]
  },
  {
   "cell_type": "markdown",
   "metadata": {
    "collapsed": true,
    "slideshow": {
     "slide_type": "slide"
    }
   },
   "source": [
    "# Structured data is everywhere"
   ]
  },
  {
   "cell_type": "code",
   "execution_count": 2,
   "metadata": {
    "collapsed": false,
    "slideshow": {
     "slide_type": "fragment"
    }
   },
   "outputs": [],
   "source": [
    "data = {\n",
    "    \"operation\": \"upload\",  # \"upload\" or \"delete\"\n",
    "    \"timeout\": 3600,  # Optional, how long the sig should be valid for.\n",
    "    \"md5\": \"deadbeefetc\",  # Optional\n",
    "    \"files\": {\n",
    "        \"5gbCtxlvljhx5-al\": {\n",
    "            \"size\": 65536,\n",
    "            \"shred_date\": \"2015-05-02T00:00:00Z\"  # Must be a date from now up to 4 months in the future.\n",
    "        },\n",
    "    }\n",
    "}"
   ]
  },
  {
   "cell_type": "markdown",
   "metadata": {
    "collapsed": true,
    "slideshow": {
     "slide_type": "slide"
    }
   },
   "source": [
    "# How do we validate it?"
   ]
  },
  {
   "cell_type": "code",
   "execution_count": 3,
   "metadata": {
    "collapsed": false,
    "slideshow": {
     "slide_type": "fragment"
    }
   },
   "outputs": [],
   "source": [
    "if data.get(\"operation\") not in [\"upload\", \"delete\"]:\n",
    "    raise SomeError(\"Operation not valid.\")\n",
    "\n",
    "try:\n",
    "    timeout = int(data.get(\"timeout\"))\n",
    "except ValueError:\n",
    "    raise SomeError(\"Timeout not a number.\")\n",
    "\n",
    "if not 0 < timeout <= 3600:\n",
    "    raise SomeError(\"Timeout not up to one hour in the future.\")\n",
    "\n",
    "if data.get(\"md5\") and not isinstance(data[\"md5\"], str):\n",
    "    raise SomeError(\"md5 is not a valid MD5 hash.\")\n",
    "\n",
    "if not isinstance(data.get(\"files\"), dict):\n",
    "    raise SomeError(\"files must be a dictionary.\")\n",
    "\n",
    "# etc"
   ]
  },
  {
   "cell_type": "markdown",
   "metadata": {
    "slideshow": {
     "slide_type": "slide"
    }
   },
   "source": [
    "<div style=\"text-align: center\"><img src=\"http://i.giphy.com/NsyUZQ6OJDVdu.gif\" width=\"960\" /></div>"
   ]
  },
  {
   "cell_type": "markdown",
   "metadata": {
    "collapsed": true,
    "slideshow": {
     "slide_type": "slide"
    }
   },
   "source": [
    "# Is there a better way?"
   ]
  },
  {
   "cell_type": "markdown",
   "metadata": {
    "slideshow": {
     "slide_type": "fragment"
    }
   },
   "source": [
    "### No."
   ]
  },
  {
   "cell_type": "markdown",
   "metadata": {
    "slideshow": {
     "slide_type": "fragment"
    }
   },
   "source": [
    "### Just kidding, of course there is. Who asks \"is there a better way?\" if there's no better way? No one, that's who."
   ]
  },
  {
   "cell_type": "markdown",
   "metadata": {
    "slideshow": {
     "slide_type": "slide"
    }
   },
   "source": [
    "### Presenting the `schema` library."
   ]
  },
  {
   "cell_type": "code",
   "execution_count": 4,
   "metadata": {
    "collapsed": false,
    "slideshow": {
     "slide_type": "fragment"
    }
   },
   "outputs": [
    {
     "data": {
      "text/plain": [
       "{'foo': 3, 'hello': 'hi!'}"
      ]
     },
     "execution_count": 4,
     "metadata": {},
     "output_type": "execute_result"
    }
   ],
   "source": [
    "from schema import Schema, And, Or, Optional, Use, SchemaError\n",
    "\n",
    "schema = Schema({\n",
    "    \"foo\": int,\n",
    "    Optional(\"hello\"): \"hi!\",\n",
    "})\n",
    "\n",
    "data = {\n",
    "    \"hello\": \"hi!\",\n",
    "    \"foo\": 3,\n",
    "}\n",
    "\n",
    "schema.validate(data)"
   ]
  },
  {
   "cell_type": "code",
   "execution_count": 5,
   "metadata": {
    "collapsed": false,
    "slideshow": {
     "slide_type": "subslide"
    }
   },
   "outputs": [
    {
     "data": {
      "text/plain": [
       "{'foo': 3}"
      ]
     },
     "execution_count": 5,
     "metadata": {},
     "output_type": "execute_result"
    }
   ],
   "source": [
    "schema = Schema({\n",
    "    \"foo\": int,\n",
    "    Optional(\"hello\"): \"hi!\",\n",
    "})\n",
    "\n",
    "data = {\n",
    "    \"foo\": 3,\n",
    "}\n",
    "\n",
    "schema.validate(data)"
   ]
  },
  {
   "cell_type": "code",
   "execution_count": 6,
   "metadata": {
    "collapsed": false,
    "slideshow": {
     "slide_type": "subslide"
    }
   },
   "outputs": [
    {
     "name": "stdout",
     "output_type": "stream",
     "text": [
      "'hi!' does not match 'yo'\n"
     ]
    }
   ],
   "source": [
    "schema = Schema({\n",
    "    \"foo\": int,\n",
    "    Optional(\"hello\"): \"hi!\",\n",
    "})\n",
    "\n",
    "data = {\n",
    "    \"hello\": \"yo\",\n",
    "    \"foo\": 3,\n",
    "}\n",
    "\n",
    "try:\n",
    "    schema.validate(data)\n",
    "except SchemaError as e:\n",
    "    print e"
   ]
  },
  {
   "cell_type": "markdown",
   "metadata": {
    "slideshow": {
     "slide_type": "slide"
    }
   },
   "source": [
    "# Tricks"
   ]
  },
  {
   "cell_type": "code",
   "execution_count": 7,
   "metadata": {
    "collapsed": false,
    "slideshow": {
     "slide_type": "subslide"
    }
   },
   "outputs": [
    {
     "ename": "NameError",
     "evalue": "name 'fetch_user_by_id' is not defined",
     "output_type": "error",
     "traceback": [
      "\u001b[1;31m---------------------------------------------------------------------------\u001b[0m",
      "\u001b[1;31mNameError\u001b[0m                                 Traceback (most recent call last)",
      "\u001b[1;32m<ipython-input-7-2ca8e815d87c>\u001b[0m in \u001b[0;36m<module>\u001b[1;34m()\u001b[0m\n\u001b[1;32m----> 1\u001b[1;33m \u001b[0mschema\u001b[0m \u001b[1;33m=\u001b[0m \u001b[0mSchema\u001b[0m\u001b[1;33m(\u001b[0m\u001b[0mAnd\u001b[0m\u001b[1;33m(\u001b[0m\u001b[0mint\u001b[0m\u001b[1;33m,\u001b[0m \u001b[0mfetch_user_by_id\u001b[0m\u001b[1;33m)\u001b[0m\u001b[1;33m)\u001b[0m\u001b[1;33m\u001b[0m\u001b[0m\n\u001b[0m\u001b[0;32m      2\u001b[0m \u001b[1;33m\u001b[0m\u001b[0m\n\u001b[0;32m      3\u001b[0m \u001b[0mdata\u001b[0m \u001b[1;33m=\u001b[0m \u001b[1;34m\"/tmp/pythess\"\u001b[0m\u001b[1;33m\u001b[0m\u001b[0m\n\u001b[0;32m      4\u001b[0m \u001b[1;33m\u001b[0m\u001b[0m\n\u001b[0;32m      5\u001b[0m \u001b[1;32mtry\u001b[0m\u001b[1;33m:\u001b[0m\u001b[1;33m\u001b[0m\u001b[0m\n",
      "\u001b[1;31mNameError\u001b[0m: name 'fetch_user_by_id' is not defined"
     ]
    }
   ],
   "source": [
    "schema = Schema(And(int, fetch_user_by_id))\n",
    "\n",
    "data = \"/tmp/pythess\"\n",
    "\n",
    "try:\n",
    "    print schema.validate(data)\n",
    "except SchemaError as e:\n",
    "    print(e)"
   ]
  },
  {
   "cell_type": "code",
   "execution_count": null,
   "metadata": {
    "collapsed": false,
    "slideshow": {
     "slide_type": "subslide"
    }
   },
   "outputs": [],
   "source": [
    "schema = Schema(range(10))\n",
    "\n",
    "data = [2, 4, 6, 2, 2, 2, 20]\n",
    "\n",
    "try:\n",
    "    print schema.validate(data)\n",
    "except SchemaError as e:\n",
    "    print(e)"
   ]
  },
  {
   "cell_type": "code",
   "execution_count": null,
   "metadata": {
    "collapsed": false,
    "slideshow": {
     "slide_type": "subslide"
    }
   },
   "outputs": [],
   "source": [
    "schema = Schema({\n",
    "    \"shred_date\": And(\n",
    "        basestring,\n",
    "        Use(ciso8601.parse_datetime_unaware),\n",
    "        datetime.datetime,\n",
    "        Use(lambda d: (d - datetime.datetime.now()).days),\n",
    "        lambda d: 0 < d < 120,\n",
    "        error=\"shred_date must be a valid future date string up to 120 days from now.\")\n",
    "})\n",
    "\n",
    "data = {\n",
    "    \"shred_date\": \"2016-10-10T00:00:00Z\",\n",
    "}\n",
    "\n",
    "try:\n",
    "    print schema.validate(data)\n",
    "except SchemaError as e:\n",
    "    print(e)"
   ]
  },
  {
   "cell_type": "code",
   "execution_count": null,
   "metadata": {
    "collapsed": false,
    "slideshow": {
     "slide_type": "subslide"
    }
   },
   "outputs": [],
   "source": [
    "operations = {\"upload\": \"PUT\", \"delete\": \"DELETE\", \"replace\": \"POST\"}\n",
    "schema = Schema(And(Use(json.loads, error=\"Invalid JSON\"), {\n",
    "        \"operation\": And(lambda s: s in operations.keys(), Use(operations.get), error=\"Valid operations are: %s\" % \", \".join(operations.keys())),\n",
    "        \"files\": {And(basestring, lambda s: len(s) > 5, error=\"Filename must be a string longer than 5 characters.\"): {\n",
    "            Optional(\"size\"): And(int, lambda i: i > 0, error=\"Size must be a positive integer.\"),\n",
    "            Optional(\"shred_date\"): And(\n",
    "                basestring,  # Make sure it's a string.\n",
    "                Use(ciso8601.parse_datetime_unaware),  # Parse it into a date.\n",
    "                datetime.datetime,  # Make sure it's a date now.\n",
    "                lambda d: 0 < (d - datetime.datetime.now()).days < 120,  # Make sure it's in the future, up to 120 days.\n",
    "                error=\"shred_date must be a valid future date string up to 120 days from now.\")\n",
    "            }}}))\n",
    "data = \"\"\"{\n",
    "    \"operation\": \"repklace\",\n",
    "    \"files\": {\n",
    "        \"file.nam\": {\n",
    "            \"size\": 100,\n",
    "            \"shred_date\": \"2016-01-01T00:00:00Z\"\n",
    "        }}}}\"\"\"\n",
    "try:\n",
    "    print schema.validate(data)\n",
    "except SchemaError as e:\n",
    "    print e"
   ]
  },
  {
   "cell_type": "markdown",
   "metadata": {
    "collapsed": true,
    "slideshow": {
     "slide_type": "slide"
    }
   },
   "source": [
    "# Questions?"
   ]
  },
  {
   "cell_type": "markdown",
   "metadata": {
    "collapsed": true,
    "slideshow": {
     "slide_type": "slide"
    }
   },
   "source": [
    "# Thank you!"
   ]
  }
 ],
 "metadata": {
  "celltoolbar": "Slideshow",
  "kernelspec": {
   "display_name": "Python 2",
   "language": "python",
   "name": "python2"
  },
  "language_info": {
   "codemirror_mode": {
    "name": "ipython",
    "version": 2
   },
   "file_extension": ".py",
   "mimetype": "text/x-python",
   "name": "python",
   "nbconvert_exporter": "python",
   "pygments_lexer": "ipython2",
   "version": "2.7.8"
  }
 },
 "nbformat": 4,
 "nbformat_minor": 0
}
