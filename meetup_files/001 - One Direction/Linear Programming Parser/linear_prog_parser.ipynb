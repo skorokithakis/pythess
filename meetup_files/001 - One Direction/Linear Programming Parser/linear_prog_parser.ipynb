{
 "metadata": {
  "name": "",
  "signature": "sha256:86601025e3a95aca8c64cee36fe62d305751a0fdd66936acb02e8b186dc068aa"
 },
 "nbformat": 3,
 "nbformat_minor": 0,
 "worksheets": [
  {
   "cells": [
    {
     "cell_type": "markdown",
     "metadata": {},
     "source": [
      "# A parser for linear programming problems (simplex oriented)\n",
      "### Theodore Keloglou \n",
      "### @sirodoht almost everywhere"
     ]
    },
    {
     "cell_type": "markdown",
     "metadata": {},
     "source": [
      "![](http://imgs.xkcd.com/comics/python.png)"
     ]
    },
    {
     "cell_type": "code",
     "collapsed": false,
     "input": [
      "import antigravity"
     ],
     "language": "python",
     "metadata": {},
     "outputs": [],
     "prompt_number": 1
    },
    {
     "cell_type": "markdown",
     "metadata": {},
     "source": [
      "![](http://upload.wikimedia.org/wikipedia/commons/thumb/0/0c/Linear_Programming_Feasible_Region.svg/500px-Linear_Programming_Feasible_Region.svg.png)"
     ]
    },
    {
     "cell_type": "markdown",
     "metadata": {},
     "source": [
      "![](http://upload.wikimedia.org/wikipedia/commons/thumb/e/ef/3dpoly.svg/500px-3dpoly.svg.png)"
     ]
    },
    {
     "cell_type": "markdown",
     "metadata": {},
     "source": [
      "## Example\n",
      "*What we want our function/module to input*\n",
      "![](http://i.imgur.com/uBzstfF.jpg)"
     ]
    },
    {
     "cell_type": "markdown",
     "metadata": {},
     "source": [
      "## Example\n",
      "*What we want our function/module to output*\n",
      "![](http://i.imgur.com/4UceDQA.png)"
     ]
    },
    {
     "cell_type": "markdown",
     "metadata": {},
     "source": [
      "### Regex examples"
     ]
    },
    {
     "cell_type": "code",
     "collapsed": false,
     "input": [
      "import re"
     ],
     "language": "python",
     "metadata": {},
     "outputs": [],
     "prompt_number": 3
    },
    {
     "cell_type": "code",
     "collapsed": false,
     "input": [
      "re.match('''    # e.g. +12.34 or 12.34 or +12 or 12\n",
      "        [\\ ]*     # any number of space characters\n",
      "        [\\+\\ ]?   # the plus sign '+' if available, and possible space chars\n",
      "        [\\d]+     # *at least* one digit\n",
      "        [\\.]?     # a dot '.' if available\n",
      "        [\\d]*     # any number of digits\n",
      "        ''', '+12.34x1', re.VERBOSE).group(0)"
     ],
     "language": "python",
     "metadata": {},
     "outputs": [
      {
       "metadata": {},
       "output_type": "pyout",
       "prompt_number": 4,
       "text": [
        "'+12.34'"
       ]
      }
     ],
     "prompt_number": 4
    },
    {
     "cell_type": "code",
     "collapsed": false,
     "input": [
      "re.match('''   # e.g. -12.34 or -12\n",
      "        [\\ ]*     # any number of space characters\n",
      "        [\\-]      # a minus sign '-'\n",
      "        [\\d]+     # one or more digits\n",
      "        [\\.]?     # a dot '.' if available\n",
      "        [\\d]*     # any number of digits\n",
      "        ''', '-12.23x2', re.VERBOSE).group(0)"
     ],
     "language": "python",
     "metadata": {},
     "outputs": [
      {
       "metadata": {},
       "output_type": "pyout",
       "prompt_number": 5,
       "text": [
        "'-12.23'"
       ]
      }
     ],
     "prompt_number": 5
    },
    {
     "cell_type": "code",
     "collapsed": false,
     "input": [
      "re.match('''   # e.g. +12x1 or 12x2\n",
      "        [\\ ]*      # any number of space characters\n",
      "        [\\+]?      # one + if available\n",
      "        [a-z]      # one letter (variable name)\n",
      "        [\\d]+      # at least one digits\n",
      "        ''', '+x3', re.VERBOSE).group(0)"
     ],
     "language": "python",
     "metadata": {},
     "outputs": [
      {
       "metadata": {},
       "output_type": "pyout",
       "prompt_number": 16,
       "text": [
        "'+x3'"
       ]
      }
     ],
     "prompt_number": 16
    },
    {
     "cell_type": "code",
     "collapsed": false,
     "input": [
      "re.match('''   # e.g. -12x1\n",
      "        [\\ ]*      # any number of space characters\n",
      "        [\\-]       # one minus sign\n",
      "        [a-z]      # one letter(variable name)\n",
      "        [\\d]+      # at least one digit\n",
      "        ''', '-x4', re.VERBOSE).group(0)"
     ],
     "language": "python",
     "metadata": {},
     "outputs": [
      {
       "metadata": {},
       "output_type": "pyout",
       "prompt_number": 17,
       "text": [
        "'-x4'"
       ]
      }
     ],
     "prompt_number": 17
    },
    {
     "cell_type": "code",
     "collapsed": false,
     "input": [
      "def parse_coefficients(coefficient_list, monomial):\n",
      "    \"\"\"\n",
      "    :rtype : None\n",
      "    :param coefficient_list: List in which coefficients will be stored\n",
      "    :param monomial: A string (e.g. -3x1) which will be parsed to its coefficient (e.g. -3)\n",
      "    \"\"\"\n",
      "    import re\n",
      "\n",
      "    # Check which pattern matches. Valid are: (s)(n)lv\n",
      "    #   parenthesis indicate optional existence\n",
      "    #   s is + or - (absence means +)\n",
      "    #   n is a number (coefficient, absence means 1)\n",
      "    #   l is a lowercase latin letter (variable letter)\n",
      "    #   v is a number, probably incremental (variable number)\n",
      "    if re.match('''    # e.g. +12.34 or 12.34 or +12 or 12\n",
      "        [\\ ]*     # any number of space characters\n",
      "        [\\+\\ ]?   # the plus sign '+' if available, and possible space chars\n",
      "        [\\d]+     # *at least* one digit\n",
      "        [\\.]?     # a dot '.' if available\n",
      "        [\\d]*     # any number of digits\n",
      "        ''', monomial, re.VERBOSE):\n",
      "        float_cast = float(re.match('[ ]*[\\+ ]?[\\d]+[\\.]?[\\d]*', monomial).group(0))\n",
      "        coefficient_list.append(float_cast)\n",
      "    elif re.match('''   # e.g. -12.34 or -12\n",
      "        [\\ ]*     # any number of space characters\n",
      "        [\\-]      # a minus sign '-'\n",
      "        [\\d]+     # one or more digits\n",
      "        [\\.]?     # a dot '.' if available\n",
      "        [\\d]*     # any number of digits\n",
      "        ''', monomial, re.VERBOSE):\n",
      "        float_cast = float(re.match('[ ]*[\\-][\\d]+[\\.]?[\\d]*', monomial).group(0))\n",
      "        coefficient_list.append(float_cast)\n",
      "    elif re.match('''   # e.g. +12x1 or 12x2\n",
      "        [\\ ]*      # any number of space characters\n",
      "        [\\+]?      # one + if available\n",
      "        [a-z]      # one letter (variable name)\n",
      "        [\\d]+      # at least one digits\n",
      "        ''', monomial, re.VERBOSE):\n",
      "        coefficient_list.append(1)\n",
      "    elif re.match('''   # e.g. -12x1\n",
      "        [\\ ]*      # any number of space characters\n",
      "        [\\-]       # one minus sign\n",
      "        [a-z]      # one letter(variable name)\n",
      "        [\\d]+      # at least one digit\n",
      "        ''', monomial, re.VERBOSE):\n",
      "        coefficient_list.append(-1)"
     ],
     "language": "python",
     "metadata": {},
     "outputs": [],
     "prompt_number": 6
    },
    {
     "cell_type": "code",
     "collapsed": false,
     "input": [
      "import re\n",
      "\n",
      "input_filename = '/home/tho/data_input_file'\n",
      "output_filename = '/home/tho/data_output'\n",
      "\n",
      "# Initialize error variable\n",
      "#   If error != 0 then there was a file input problem\n",
      "error = 0\n",
      "\n",
      "try:\n",
      "    infile = open(input_filename)\n",
      "except FileNotFoundError:\n",
      "    error = 1\n",
      "    print('\\nInput file error: File not found.')\n",
      "\n",
      "lines = []\n",
      "if error != 1:\n",
      "    for line in infile:\n",
      "        lines.append(line)\n",
      "\n",
      "    infile.close()\n",
      "\n",
      "for line in lines:\n",
      "    print(line, end='')"
     ],
     "language": "python",
     "metadata": {},
     "outputs": [
      {
       "output_type": "stream",
       "stream": "stdout",
       "text": [
        "min x1+x2-4x3\n",
        "st x1+x2+2x3<=9\n",
        "   x1-3x2-x3<=20\n",
        "   -x1+x2+5x3<=4\n",
        "end\n"
       ]
      }
     ],
     "prompt_number": 9
    },
    {
     "cell_type": "code",
     "collapsed": false,
     "input": [
      "# Check if problem is max or min\n",
      "minmax_line = ''\n",
      "for line in lines:\n",
      "    if re.match('^[ ]*max|min', line):\n",
      "        minmax_line = line\n",
      "\n",
      "minmax = 0\n",
      "objective_function = ''\n",
      "if re.match('^[ ]*max', minmax_line):\n",
      "    minmax = 1\n",
      "    objective_function = minmax_line\n",
      "    objective_function = objective_function.strip('max')\n",
      "elif re.match('^[ ]*min', minmax_line):\n",
      "    minmax = -1\n",
      "    objective_function = minmax_line\n",
      "    objective_function = objective_function.strip('min')\n",
      "\n",
      "if minmax_line == '' and minmax == 0:\n",
      "    error = 2\n",
      "    print('\\nInput file error: Objective function not found.')\n",
      "    \n",
      "\n",
      "# Fill c-vector with objective function coefficients\n",
      "c_vector = []\n",
      "\n",
      "regex = re.compile('^[\\+\\- ]?[\\d]*[\\.]?[\\d]*[a-z][\\d+]')\n",
      "while regex.match(objective_function):\n",
      "    monomial = regex.match(objective_function).group(0)\n",
      "    parse_coefficients(c_vector, monomial)\n",
      "    objective_function = objective_function.replace(monomial, '', 1)\n",
      "\n",
      "# Fill A-matrix, b-vector and Eqin using problem constraints\n",
      "a_matrix = []\n",
      "b_vector = []\n",
      "eqin = []\n",
      "\n",
      "st_line = ''\n",
      "st_index = 0\n",
      "for index, line in enumerate(lines):\n",
      "    if 'st' in line:\n",
      "        st_index = index\n",
      "        st_line = line\n",
      "\n",
      "if re.match('^[ ]*st', st_line):\n",
      "    st_line = st_line.replace('st', '  ', 1)\n",
      "\n",
      "if st_line == '':\n",
      "    error = 3\n",
      "    print('\\nInput file error: Constraints line not found. No \\'st\\' keyword.')\n",
      "\n",
      "while st_index < len(lines) - 1:\n",
      "    sub_a_vector = []\n",
      "    a_matrix.append(sub_a_vector)\n",
      "    while True:\n",
      "        st_line = st_line.strip(' ')\n",
      "        if re.match('^[\\+\\- ]?[\\d]*[\\.]?[\\d]*[a-z][\\d+]', st_line):\n",
      "            monomial = re.match('^[\\+\\- ]?[\\d]*[\\.]?[\\d]*[a-z][\\d+]', st_line).group(0)\n",
      "            parse_coefficients(sub_a_vector, monomial)\n",
      "            st_line = st_line.replace(monomial, '', 1)\n",
      "        elif re.match('^[<>=]+', st_line):\n",
      "            monomial = re.match('^[<>=]+', st_line).group(0)\n",
      "            if monomial == '<=':\n",
      "                eqin.append(-1)\n",
      "            elif monomial == '>=':\n",
      "                eqin.append(1)\n",
      "            elif monomial == '=':\n",
      "                eqin.append(0)\n",
      "            else:\n",
      "                error = 4\n",
      "                print('\\nInput file error: Unexpected character; expected <=, >=, = but got', monomial)\n",
      "            st_line = st_line.replace(monomial, '', 1)\n",
      "        elif re.match('^[\\d]+', st_line):\n",
      "            monomial = re.match('^[\\d]+', st_line).group(0)\n",
      "            int_cast = int(re.match('^[\\d]+', st_line).group(0))\n",
      "            b_vector.append(int_cast)\n",
      "            st_line = st_line.replace(monomial, '', 1)\n",
      "        else:\n",
      "            if not sub_a_vector:    # Evaluates true when the are empty lines among the constraints\n",
      "                a_matrix.pop()\n",
      "            break\n",
      "\n",
      "    # Increment line number and get the next one\n",
      "    st_index += 1\n",
      "    st_line = lines[st_index]\n",
      "\n",
      "    # Search for final statement and no errors\n",
      "    if st_line == 'end\\n' and error == 0:\n",
      "        print('\\nFile input successful.')\n",
      "        break"
     ],
     "language": "python",
     "metadata": {},
     "outputs": [
      {
       "output_type": "stream",
       "stream": "stdout",
       "text": [
        "\n",
        "File input successful.\n"
       ]
      }
     ],
     "prompt_number": 10
    },
    {
     "cell_type": "code",
     "collapsed": false,
     "input": [
      "# Convert constraints to dual equivalents\n",
      "#  '*' means free\n",
      "variable_constraints = []\n",
      "if minmax == -1:\n",
      "    for el in eqin:\n",
      "        if el == 0:\n",
      "            variable_constraints.append('*')\n",
      "        elif el == 1:\n",
      "            variable_constraints.append('>=0')\n",
      "        elif el == -1:\n",
      "            variable_constraints.append('<=0')"
     ],
     "language": "python",
     "metadata": {},
     "outputs": [],
     "prompt_number": 11
    },
    {
     "cell_type": "code",
     "collapsed": false,
     "input": [
      "a_matrix"
     ],
     "language": "python",
     "metadata": {},
     "outputs": [
      {
       "metadata": {},
       "output_type": "pyout",
       "prompt_number": 12,
       "text": [
        "[[1, 1, 2.0], [1, -3.0, -1], [-1, 1, 5.0]]"
       ]
      }
     ],
     "prompt_number": 12
    },
    {
     "cell_type": "markdown",
     "metadata": {},
     "source": [
      "## Matrix Transpose\n",
      "![](https://upload.wikimedia.org/wikipedia/commons/e/e4/Matrix_transpose.gif)"
     ]
    },
    {
     "cell_type": "code",
     "collapsed": false,
     "input": [
      "# Transpose A-matrix\n",
      "a_matrix = list(zip(a_matrix))"
     ],
     "language": "python",
     "metadata": {},
     "outputs": [],
     "prompt_number": 20
    },
    {
     "cell_type": "code",
     "collapsed": false,
     "input": [
      "a_matrix"
     ],
     "language": "python",
     "metadata": {},
     "outputs": [
      {
       "metadata": {},
       "output_type": "pyout",
       "prompt_number": 18,
       "text": [
        "[([1, 1, 2.0],), ([1, -3.0, -1],), ([-1, 1, 5.0],)]"
       ]
      }
     ],
     "prompt_number": 18
    },
    {
     "cell_type": "code",
     "collapsed": false,
     "input": [
      "# min(max) problem's dual is max(min)\n",
      "minmax = -minmax\n",
      "\n",
      "# Write problem to output file\n",
      "outfile = open(output_filename, 'w')\n",
      "outfile.write('(Objective Function) b-vector: [' + ', '.join(map(str, b_vector)) + ']\\n')\n",
      "\n",
      "outfile.write('\\nA-matrix: [')\n",
      "thing = ''\n",
      "for index, sub_a_vector in enumerate(a_matrix):\n",
      "    thing += '[ ' + ', '.join(map(str, sub_a_vector)) + ']'\n",
      "    if index != (len(a_matrix) - 1):\n",
      "        thing += ', '\n",
      "outfile.write(thing + ']\\n')\n",
      "\n",
      "outfile.write('\\n(Contraints) c-vector: [' + ', '.join(map(str, c_vector)) + ']\\n')\n",
      "outfile.write('\\n(Variable Contraints) variable_constraints-vector: [' + ', '.join(map(str, c_vector)) + ']\\n')\n",
      "outfile.write('\\nEqin: [' + ', '.join(map(str, eqin)) + ']\\n')\n",
      "outfile.write('\\nMinMax: [' + str(minmax) + ']\\n')\n",
      "outfile.close()\n",
      "\n",
      "\n",
      "print('\\n===Results===')\n",
      "\n",
      "print('c-vector:', c_vector)\n",
      "print('A-matrix:', a_matrix)\n",
      "print('b-vector:', b_vector)\n",
      "print('Variable-contraints-vector:', variable_constraints)\n",
      "print('Eqin:', eqin)\n",
      "print('MinMax:', minmax)"
     ],
     "language": "python",
     "metadata": {},
     "outputs": [
      {
       "output_type": "stream",
       "stream": "stdout",
       "text": [
        "\n",
        "===Results===\n",
        "c-vector: [1, 1, -4.0]\n",
        "A-matrix: [([1, 1, 2.0],), ([1, -3.0, -1],), ([-1, 1, 5.0],)]\n",
        "b-vector: [9, 20, 4]\n",
        "Variable-contraints-vector: ['<=0', '<=0', '<=0']\n",
        "Eqin: [-1, -1, -1]\n",
        "MinMax: 1\n"
       ]
      }
     ],
     "prompt_number": 23
    }
   ],
   "metadata": {}
  }
 ]
}